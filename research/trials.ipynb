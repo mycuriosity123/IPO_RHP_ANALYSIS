{
 "cells": [
  {
   "cell_type": "code",
   "execution_count": 1,
   "id": "9bb5bb29",
   "metadata": {},
   "outputs": [],
   "source": [
    "from fastapi import FastAPI, File, UploadFile\n",
    "from fastapi.responses import StreamingResponse\n",
    "from pydantic import BaseModel, ValidationError, field_validator,FilePath\n",
    "from typing import Annotated\n",
    "from langchain_community.document_loaders.parsers import RapidOCRBlobParser\n",
    "from langchain_community.document_loaders import PyMuPDFLoader\n",
    "import io"
   ]
  },
  {
   "cell_type": "code",
   "execution_count": 2,
   "id": "c2cd3140",
   "metadata": {},
   "outputs": [],
   "source": [
    "app = FastAPI()"
   ]
  },
  {
   "cell_type": "code",
   "execution_count": 34,
   "id": "a509ce7a",
   "metadata": {},
   "outputs": [],
   "source": [
    "class PdfUpload(BaseModel):\n",
    "    pdf_file: Annotated[UploadFile, File(description=\"PDF file to upload\")]\n",
    "    @field_validator('pdf_file')\n",
    "    @classmethod\n",
    "    def check_pdf_extension(cls, v: UploadFile):\n",
    "        if not v.filename.lower().endswith('.pdf'):\n",
    "            raise ValueError(\"File must be a PDF.\")\n",
    "        return v"
   ]
  },
  {
   "cell_type": "code",
   "execution_count": 43,
   "id": "9ce71a53",
   "metadata": {},
   "outputs": [],
   "source": [
    "def upload_pdf(data:PdfUpload):\n",
    "    uploaded_file: UploadFile = data[\"pdf_file\"]\n",
    "    return uploaded_file"
   ]
  },
  {
   "cell_type": "code",
   "execution_count": 44,
   "id": "074a1fce",
   "metadata": {},
   "outputs": [
    {
     "ename": "KeyError",
     "evalue": "'pdf_file'",
     "output_type": "error",
     "traceback": [
      "\u001b[31m---------------------------------------------------------------------------\u001b[39m",
      "\u001b[31mKeyError\u001b[39m                                  Traceback (most recent call last)",
      "\u001b[36mCell\u001b[39m\u001b[36m \u001b[39m\u001b[32mIn[44]\u001b[39m\u001b[32m, line 1\u001b[39m\n\u001b[32m----> \u001b[39m\u001b[32m1\u001b[39m \u001b[43mupload_pdf\u001b[49m\u001b[43m(\u001b[49m\u001b[43m{\u001b[49m\u001b[33;43m\"\u001b[39;49m\u001b[33;43mdata\u001b[39;49m\u001b[33;43m\"\u001b[39;49m\u001b[43m:\u001b[49m\u001b[43m{\u001b[49m\u001b[33;43m\"\u001b[39;49m\u001b[33;43mpdf_file\u001b[39;49m\u001b[33;43m\"\u001b[39;49m\u001b[43m:\u001b[49m\u001b[33;43m\"\u001b[39;49m\u001b[33;43mkumar.pdf\u001b[39;49m\u001b[33;43m\"\u001b[39;49m\u001b[43m}\u001b[49m\u001b[43m}\u001b[49m\u001b[43m)\u001b[49m\n",
      "\u001b[36mCell\u001b[39m\u001b[36m \u001b[39m\u001b[32mIn[43]\u001b[39m\u001b[32m, line 2\u001b[39m, in \u001b[36mupload_pdf\u001b[39m\u001b[34m(data)\u001b[39m\n\u001b[32m      1\u001b[39m \u001b[38;5;28;01mdef\u001b[39;00m\u001b[38;5;250m \u001b[39m\u001b[34mupload_pdf\u001b[39m(data:PdfUpload):\n\u001b[32m----> \u001b[39m\u001b[32m2\u001b[39m     uploaded_file: UploadFile = \u001b[43mdata\u001b[49m\u001b[43m[\u001b[49m\u001b[33;43m\"\u001b[39;49m\u001b[33;43mpdf_file\u001b[39;49m\u001b[33;43m\"\u001b[39;49m\u001b[43m]\u001b[49m\n\u001b[32m      3\u001b[39m     \u001b[38;5;28;01mreturn\u001b[39;00m uploaded_file\n",
      "\u001b[31mKeyError\u001b[39m: 'pdf_file'"
     ]
    }
   ],
   "source": [
    "upload_pdf({\"data\":{\"pdf_file\":\"kumar.pdf\"}})"
   ]
  },
  {
   "cell_type": "code",
   "execution_count": null,
   "id": "515c22f9",
   "metadata": {},
   "outputs": [],
   "source": [
    "uploaded_file: UploadFile = pdf_upload.pdf_file"
   ]
  }
 ],
 "metadata": {
  "kernelspec": {
   "display_name": "Python 3",
   "language": "python",
   "name": "python3"
  },
  "language_info": {
   "codemirror_mode": {
    "name": "ipython",
    "version": 3
   },
   "file_extension": ".py",
   "mimetype": "text/x-python",
   "name": "python",
   "nbconvert_exporter": "python",
   "pygments_lexer": "ipython3",
   "version": "3.13.4"
  }
 },
 "nbformat": 4,
 "nbformat_minor": 5
}
